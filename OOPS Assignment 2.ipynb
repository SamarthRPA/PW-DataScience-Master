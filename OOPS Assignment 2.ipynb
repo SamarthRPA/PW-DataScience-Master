{
 "cells": [
  {
   "cell_type": "raw",
   "id": "6a79d14e",
   "metadata": {},
   "source": [
    "Q1. Create a function which will take a list as an argument and return the product of all the numbers\n",
    "after creating a flat list.\n",
    "Use the below-given list as an argument for your function.\n",
    "list1 = [1,2,3,4, [44,55,66, True], False, (34,56,78,89,34), {1,2,3,3,2,1}, {1:34, \"key2\": [55, 67, 78, 89], 4: (45,\n",
    "22, 61, 34)}, [56, 'data science'], 'Machine Learning']"
   ]
  },
  {
   "cell_type": "code",
   "execution_count": 15,
   "id": "036e48a5",
   "metadata": {},
   "outputs": [],
   "source": [
    "def nested_logic(a):\n",
    "    n = []\n",
    "    for i in a:\n",
    "        if type(i) == list:\n",
    "            for b in i:\n",
    "                if type(b) == int or type(b) == float:\n",
    "                    n.append(b)\n",
    "        elif type(i) == dict:\n",
    "            for d in i:\n",
    "                if type(d) ==int or type(d)==float:\n",
    "                    n.append\n",
    "        else:\n",
    "            if type(i) == int or type(i) == float:\n",
    "                n.append(i)\n",
    "    return sum(n),n"
   ]
  },
  {
   "cell_type": "code",
   "execution_count": 16,
   "id": "87a067ee",
   "metadata": {},
   "outputs": [],
   "source": [
    "list1 = [1,2,3,4, [44,55,66, True], False, (34,56,78,89,34), {1,2,3,3,2,1}, {1:34, \"key2\": [55, 67, 78, 89], 4: (45,\n",
    "22, 61, 34)}, [56, 'data science'], 'Machine Learning']"
   ]
  },
  {
   "cell_type": "code",
   "execution_count": 17,
   "id": "ec140806",
   "metadata": {},
   "outputs": [
    {
     "data": {
      "text/plain": [
       "(231, [1, 2, 3, 4, 44, 55, 66, 56])"
      ]
     },
     "execution_count": 17,
     "metadata": {},
     "output_type": "execute_result"
    }
   ],
   "source": [
    "nested_logic(list1)"
   ]
  },
  {
   "cell_type": "raw",
   "id": "ed69e273",
   "metadata": {},
   "source": [
    "Q2. Write a python program for encrypting a message sent to you by your friend. The logic of encryption\n",
    "should be such that, for a the output should be z. For b, the output should be y. For c, the output should\n",
    "be x respectively. Also, the whitespace should be replaced with a dollar sign. Keep the punctuation\n",
    "marks unchanged.\n",
    "Input Sentence: I want to become a Data Scientist.\n",
    "Encrypt the above input sentence using the program you just created.\n",
    "Note: Convert the given input sentence into lowercase before encrypting. The final output should be\n",
    "lowercase."
   ]
  },
  {
   "cell_type": "code",
   "execution_count": 18,
   "id": "598c1ff6",
   "metadata": {},
   "outputs": [],
   "source": [
    "def encrypt(message):\n",
    "    # create a dictionary to map each letter to its encrypted counterpart\n",
    "    mapping = {'a': 'z', 'b': 'y', 'c': 'x', 'd': 'w', 'e': 'v', 'f': 'u', 'g': 't', 'h': 's', 'i': 'r', 'j': 'q',\n",
    "               'k': 'p', 'l': 'o', 'm': 'n', 'n': 'm', 'o': 'l', 'p': 'k', 'q': 'j', 'r': 'i', 's': 'h', 't': 'g',\n",
    "               'u': 'f', 'v': 'e', 'w': 'd', 'x': 'c', 'y': 'b', 'z': 'a'}\n",
    "    \n",
    "    # replace whitespace with a dollar sign\n",
    "    message = message.replace(' ', '$')\n",
    "    \n",
    "    # encrypt each letter in the message using the mapping dictionary\n",
    "    encrypted_message = ''\n",
    "    for letter in message:\n",
    "        if letter.lower() in mapping:\n",
    "            encrypted_message += mapping[letter.lower()]\n",
    "        else:\n",
    "            encrypted_message += letter\n",
    "    \n",
    "    return encrypted_message\n"
   ]
  },
  {
   "cell_type": "code",
   "execution_count": null,
   "id": "d372c62d",
   "metadata": {},
   "outputs": [],
   "source": []
  }
 ],
 "metadata": {
  "kernelspec": {
   "display_name": "Python 3 (ipykernel)",
   "language": "python",
   "name": "python3"
  },
  "language_info": {
   "codemirror_mode": {
    "name": "ipython",
    "version": 3
   },
   "file_extension": ".py",
   "mimetype": "text/x-python",
   "name": "python",
   "nbconvert_exporter": "python",
   "pygments_lexer": "ipython3",
   "version": "3.9.12"
  }
 },
 "nbformat": 4,
 "nbformat_minor": 5
}
