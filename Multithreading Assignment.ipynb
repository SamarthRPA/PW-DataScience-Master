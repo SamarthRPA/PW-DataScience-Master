{
 "cells": [
  {
   "cell_type": "markdown",
   "id": "c7616947",
   "metadata": {},
   "source": [
    "# Multithreading Assignment"
   ]
  },
  {
   "cell_type": "raw",
   "id": "02b06680",
   "metadata": {},
   "source": [
    "Q1. What is multithreading in python? hy is it used? Name the module used to handle threads in python"
   ]
  },
  {
   "cell_type": "raw",
   "id": "67847ac7",
   "metadata": {},
   "source": [
    " > Multi-threading refers to the ability of a single CPU to perform multiple tasks simultaneously by dividing the tasks into smaller sub-tasks and executing them in parallel. In Python, multi-threading is implemented using the threading module. Each thread runs in the same memory space as the main thread, and they share the same data. However, due to the Global Interpreter Lock (GIL), only one thread can execute Python bytecode at a time, which can limit the performance of multi-threaded programs.\n",
    " \n",
    "> Module name is threading that need to be used in Python.\n"
   ]
  },
  {
   "cell_type": "raw",
   "id": "854dce76",
   "metadata": {},
   "source": [
    "Q.2 Why threading module used? write the use of the following functions:\n",
    "1.activeCount()\n",
    "2.currentThread()\n",
    "3.enumerate()\n",
    "\n",
    ">The threading module in Python is used to create and manage threads. Threads are a lightweight way of achieving parallelism or concurrency in a program.\n",
    "\n",
    ">Parallelism: Threads can execute code concurrently, allowing multiple parts of a program to run in parallel. This can improve the performance of certain types of programs, such as those that perform I/O or network operations.\n",
    "\n",
    ">Responsiveness: By using threads, you can ensure that certain parts of a program remain responsive even while other parts are busy with a long-running task. For example, you might use threads to keep a user interface responsive while a background task is running.\n",
    "\n",
    ">Resource Sharing: Threads can share resources such as memory or files, allowing multiple parts of a program to work together. This can be useful for programs that need to work with shared data or resources.\n",
    "\n",
    ">Asynchronous Programming: Threads can also be used for asynchronous programming, allowing you to run multiple tasks in parallel and respond to events as they occur. This can be useful for programs that need to interact with multiple external systems or services.\n",
    "\n",
    "Overall threading module is used to provide powerful and flexiable way to incorporate concurrency and parallelism in python.\n",
    "\n",
    "1.active_count(): This function returns the number of active threads in the current thread's process. This can be useful for debugging or monitoring purposes.\n",
    "\n",
    "2.current_thread(): This function returns a reference to the current thread object. This can be useful for obtaining information about the current thread, such as its name or ID.\n",
    "\n",
    "3.enumerate(): This function returns a list of all active thread objects in the current thread's process. Each item in the list is a reference to a thread object. This can be useful for obtaining information about all running threads in a program.\n"
   ]
  },
  {
   "cell_type": "raw",
   "id": "81f95dce",
   "metadata": {},
   "source": [
    "Q.3\n",
    "run(): This method defines the behavior of the thread when it is run. You should override this method in your own thread subclass to define what the thread should do. When you create a new thread object, you pass a callable object (usually a function) to the constructor, and this object will be called when the thread starts running.\n",
    "\n",
    "start(): This method starts the thread's execution. It causes the run() method to be invoked in a separate thread of control. You should call this method once you have finished setting up the thread and are ready for it to start running.\n",
    "\n",
    "join(): This method waits for the thread to complete its execution. It blocks the calling thread until the thread whose join() method is called has finished running. You should call this method when you want to wait for a thread to finish before continuing with the rest of your program.\n",
    "\n",
    "is_alive(): This method returns a boolean value indicating whether the thread is currently executing. If the thread is still running, this method returns True, otherwise it returns False."
   ]
  },
  {
   "cell_type": "raw",
   "id": "ec82d82c",
   "metadata": {},
   "source": [
    "Q4.\n",
    "Multithreading is a powerful tool in programming that can offer several advantages, but it also has some disadvantages. Here are some advantages and disadvantages of multithreading:\n",
    "\n",
    "Advantages:\n",
    "\n",
    "1.Improved Performance: One of the biggest advantages of multithreading is that it can help improve the performance of an application. By running multiple threads in parallel, a program can perform more work in the same amount of time, which can lead to faster execution and improved responsiveness.\n",
    "\n",
    "2.Better Resource Utilization: Multithreading can also help improve the utilization of system resources such as CPU, memory, and I/O. By running multiple threads in parallel, a program can make better use of available resources and avoid wasting them.\n",
    "\n",
    "3.Simplified Programming: In some cases, multithreading can simplify programming by allowing developers to break up complex tasks into smaller, more manageable chunks that can be executed in parallel. This can make it easier to write and maintain code, and can also make it easier to debug and test.\n",
    "\n",
    "4.Improved User Experience: Multithreading can also help improve the user experience by making an application more responsive and reducing the time it takes to perform tasks.\n",
    "\n",
    "Disadvantages:\n",
    "\n",
    "1.Increased Complexity: Multithreading can make a program more complex, as it requires careful management of shared resources and coordination between threads. This can make it more difficult to write and maintain code, and can also make it harder to debug and test.\n",
    "\n",
    "2.Synchronization Overhead: In a multithreaded program, threads often need to access shared resources, which can lead to synchronization overhead. This overhead can reduce the performance gains from multithreading and can also introduce additional complexity.\n",
    "\n",
    "3.Resource Contentions: Multithreading can also lead to resource contentions, where multiple threads compete for the same resource (such as a lock or a piece of memory). This can lead to performance issues and can also introduce the risk of deadlocks and other synchronization-related problems.\n",
    "\n",
    "4.Debugging Challenges: Multithreaded programs can be more difficult to debug, as they can exhibit non-deterministic behavior and may have race conditions or other concurrency-related bugs that can be difficult to reproduce and diagnose.\n",
    "\n",
    "In summary, while multithreading can offer significant performance and programming benefits, it also introduces additional complexity and potential risks that need to be carefully managed. Developers should carefully consider the trade-offs of multithreading when designing and implementing concurrent applications."
   ]
  },
  {
   "cell_type": "raw",
   "id": "da3ece95",
   "metadata": {},
   "source": [
    "Q5.\n",
    ">> Deadlocks and race conditions are common concurrency problems that can occur in multithreaded programs.\n",
    "\n",
    "1.Deadlocks:\n",
    "A deadlock occurs when two or more threads are waiting for each other to release resources that they are holding. In other words, each thread is blocked, waiting for a resource that another thread is holding, creating a circular dependency that cannot be resolved. Deadlocks can occur when threads are not properly synchronized and are accessing shared resources concurrently. A simple example of a deadlock is the \"dining philosophers problem\", where a group of philosophers sit around a table and take turns picking up chopsticks to eat with. If each philosopher picks up one chopstick and then waits for the other chopstick to become available, a deadlock can occur where all philosophers are waiting for the chopstick held by their neighbor.\n",
    "\n",
    "2.Race conditions:\n",
    "A race condition occurs when the behavior of a program depends on the order or timing of events that are not synchronized properly. In other words, the outcome of the program is dependent on which thread executes first or how long it takes to complete its task. Race conditions can occur when threads are accessing shared resources concurrently and there is no proper synchronization in place to ensure that each thread has exclusive access to the resource. For example, if two threads are incrementing a shared counter variable at the same time, the value of the counter may end up being different than what was expected due to the interleaving of the threads' execution.\n",
    "\n",
    "\n",
    "In summary, both deadlocks and race conditions can occur when multiple threads access shared resources concurrently and are not properly synchronized. Deadlocks occur when threads are waiting for each other to release resources, while race conditions occur when the behavior of the program depends on the order or timing of events that are not properly synchronized. These problems can lead to incorrect or unexpected program behavior, and careful management of shared resources and proper synchronization techniques are required to prevent these issues from occurring."
   ]
  },
  {
   "cell_type": "code",
   "execution_count": null,
   "id": "0043a155",
   "metadata": {},
   "outputs": [],
   "source": [
    "#Write a python program to create two threads. Thread one must print the list of squares and thread\n",
    "#two must print the list of cubes\n",
    "\n",
    "import threading\n",
    "\n",
    "def print_squares():\n",
    "    for i in range(1, 11):\n",
    "        print(f\"{i} squared is {i**2}\")\n",
    "\n",
    "def print_cubes():\n",
    "    for i in range(1, 11):\n",
    "        print(f\"{i} cubed is {i**3}\")\n",
    "\n",
    "# create two threads\n",
    "t1 = threading.Thread(target=print_squares)\n",
    "t2 = threading.Thread(target=print_cubes)\n",
    "\n",
    "# start both threads\n",
    "t1.start()\n",
    "t2.start()\n",
    "\n",
    "# wait for both threads to finish\n",
    "t1.join()\n",
    "t2.join()\n",
    "\n",
    "print(\"Done!\")\n"
   ]
  },
  {
   "cell_type": "code",
   "execution_count": null,
   "id": "7f46ef30",
   "metadata": {},
   "outputs": [],
   "source": []
  }
 ],
 "metadata": {
  "kernelspec": {
   "display_name": "Python 3 (ipykernel)",
   "language": "python",
   "name": "python3"
  },
  "language_info": {
   "codemirror_mode": {
    "name": "ipython",
    "version": 3
   },
   "file_extension": ".py",
   "mimetype": "text/x-python",
   "name": "python",
   "nbconvert_exporter": "python",
   "pygments_lexer": "ipython3",
   "version": "3.9.12"
  }
 },
 "nbformat": 4,
 "nbformat_minor": 5
}
