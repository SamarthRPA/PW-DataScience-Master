{
 "cells": [
  {
   "cell_type": "raw",
   "id": "4ddb6224",
   "metadata": {},
   "source": [
    "1.Percentage Grade Program"
   ]
  },
  {
   "cell_type": "code",
   "execution_count": 11,
   "id": "b75dd858",
   "metadata": {},
   "outputs": [
    {
     "name": "stdout",
     "output_type": "stream",
     "text": [
      "Pls insert your marks 309\n",
      "Please insert the valid marks\n"
     ]
    }
   ],
   "source": [
    "marks=float(input('Pls insert your marks '))  \n",
    "if marks > 90 and marks < 100: \n",
    "    print(\"You have got Grade A\")\n",
    "elif marks > 80 and marks <= 90:\n",
    "    print(\"You have got Grade B\")\n",
    "elif marks >= 60 and marks <=80:\n",
    "    print(\"You have got Grade C\")\n",
    "elif marks > 100:\n",
    "    print('Please insert the valid marks')\n",
    "else:\n",
    "    if marks < 60:\n",
    "        print(\"you got D Grade\")"
   ]
  },
  {
   "cell_type": "raw",
   "id": "8783d4de",
   "metadata": {},
   "source": [
    "2.Accept cost proce of bike and display road tax"
   ]
  },
  {
   "cell_type": "code",
   "execution_count": 12,
   "id": "08e35d8a",
   "metadata": {},
   "outputs": [
    {
     "name": "stdout",
     "output_type": "stream",
     "text": [
      "please insert the cost price of bike : 500000\n",
      "Tax collected will be 15% that is  1500.0\n"
     ]
    }
   ],
   "source": [
    "cost_price = float(input('please insert the cost price of bike : '))\n",
    "if cost_price > 10000:\n",
    "    print('Tax collected will be 15% that is ',str(0.15*10000))\n",
    "elif cost_price > 500000 and cost_price <= 1000000:\n",
    "    print('Tax collected will be 10% that is ',str(0.10*10000))\n",
    "elif cost_price <= 500000:\n",
    "    print('Tax collected will be 5% that is ',str(0.05*10000))"
   ]
  },
  {
   "cell_type": "raw",
   "id": "49b13ab4",
   "metadata": {},
   "source": [
    "3.Accept city from user and display monument"
   ]
  },
  {
   "cell_type": "code",
   "execution_count": 14,
   "id": "e5441480",
   "metadata": {},
   "outputs": [
    {
     "name": "stdout",
     "output_type": "stream",
     "text": [
      "Please Select city : kahama\n",
      "plese select city from Agara, Delhi,Jaipur\n"
     ]
    }
   ],
   "source": [
    "select_city = str(input(\"Please Select city : \"))\n",
    "if select_city == 'Delhi':\n",
    "    print('The monument from Delhi is Red Fort')\n",
    "elif select_city == 'Agara':\n",
    "    print('The monument from Agara is Taj Mahal')\n",
    "elif select_city == 'Jaipur':\n",
    "    print('The monument from Jaipur is Jaipur')\n",
    "else:\n",
    "    print('plese select city from Agara, Delhi,Jaipur')"
   ]
  },
  {
   "cell_type": "raw",
   "id": "8f0eb150",
   "metadata": {},
   "source": [
    "4.Given number =99 then number can be divided maximum by 3-4"
   ]
  },
  {
   "cell_type": "raw",
   "id": "5cd7a614",
   "metadata": {},
   "source": [
    "5.While loop is used to repeatedly perform a task untill the condition is true.Else block is optional.\n",
    ">>it can be used when a set of contitions needs to be repeate.\n",
    ">>repeate a number of steps finite numbers of time\n",
    ">>iterate through string, loop, tuple.\n",
    "\n",
    ">While loop example as below."
   ]
  },
  {
   "cell_type": "code",
   "execution_count": 16,
   "id": "323d2338",
   "metadata": {},
   "outputs": [
    {
     "name": "stdout",
     "output_type": "stream",
     "text": [
      "1\n",
      "2\n",
      "3\n",
      "4\n",
      "5\n",
      "6\n",
      "7\n",
      "8\n",
      "9\n"
     ]
    }
   ],
   "source": [
    "num = 1\n",
    "while num < 10:\n",
    "    print(num)\n",
    "    num +=1"
   ]
  },
  {
   "cell_type": "code",
   "execution_count": 18,
   "id": "5f548251",
   "metadata": {},
   "outputs": [
    {
     "name": "stdout",
     "output_type": "stream",
     "text": [
      "The Value from first loop 10\n",
      "The Value from second loop 5\n",
      "The Value from second loop 4\n",
      "The Value from first loop 9\n",
      "The Value from first loop 8\n",
      "The Value from first loop 7\n",
      "The Value from first loop 6\n"
     ]
    }
   ],
   "source": [
    "#6.Nested While loop\n",
    "x = 10\n",
    "y=5\n",
    "while x > 5:\n",
    "    print(\"The Value from first loop\",str(x))\n",
    "    x = x-1\n",
    "    while y > 3:\n",
    "        print(\"The Value from second loop\",str(y))\n",
    "        y = y-1\n"
   ]
  },
  {
   "cell_type": "code",
   "execution_count": null,
   "id": "04425ea0",
   "metadata": {},
   "outputs": [],
   "source": [
    "#7.Reverse, while loop"
   ]
  }
 ],
 "metadata": {
  "kernelspec": {
   "display_name": "Python 3 (ipykernel)",
   "language": "python",
   "name": "python3"
  },
  "language_info": {
   "codemirror_mode": {
    "name": "ipython",
    "version": 3
   },
   "file_extension": ".py",
   "mimetype": "text/x-python",
   "name": "python",
   "nbconvert_exporter": "python",
   "pygments_lexer": "ipython3",
   "version": "3.9.12"
  }
 },
 "nbformat": 4,
 "nbformat_minor": 5
}
