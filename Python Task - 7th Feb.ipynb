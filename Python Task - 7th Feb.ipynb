{
 "cells": [
  {
   "cell_type": "code",
   "execution_count": null,
   "id": "2d680b32",
   "metadata": {},
   "outputs": [],
   "source": [
    "Q1. You are writing code for a company. The requirement of the company is that you create a python\n",
    "function that will check whether the password entered by the user is correct or not. The function should\n",
    "take the password as input and return the string “Valid Password” if the entered password follows the\n",
    "below-given password guidelines else it should return “Invalid Password”.\n",
    "Note: 1. The Password should contain at least two uppercase letters and at least two lowercase letters.\n",
    "2. The Password should contain at least a number and three special characters.\n",
    "3. The length of"
   ]
  },
  {
   "cell_type": "code",
   "execution_count": null,
   "id": "8d285a5a",
   "metadata": {},
   "outputs": [],
   "source": [
    "import re\n",
    "\n",
    "def check_password(password):\n",
    "    # check if password is 10 characters long\n",
    "    if len(password) != 10:\n",
    "        return \"Invalid Password\"\n",
    "    \n",
    "    # check if password has at least two uppercase letters and two lowercase letters\n",
    "    if not re.search(r'[A-Z].*[A-Z]', password) or not re.search(r'[a-z].*[a-z]', password):\n",
    "        return \"Invalid Password\"\n",
    "    \n",
    "    # check if password has at least a number and three special characters\n",
    "    if not re.search(r'\\d', password) or not re.search(r'[!@#$%^&*()_+]', password) or not re.search(r'[!@#$%^&*()_+].*[!@#$%^&*()_+].*[!@#$%^&*()_+]', password):\n",
    "        return \"Invalid Password\"\n",
    "    \n",
    "    # if all checks passed, return \"Valid Password\"\n",
    "    return \"Valid Password\""
   ]
  },
  {
   "cell_type": "code",
   "execution_count": 12,
   "id": "3e13a6a3",
   "metadata": {},
   "outputs": [],
   "source": [
    "#Class Method and Class Method\n",
    "class Car_k:\n",
    "    base_price = 1000 # Class Variable\n",
    "    def __init__(self,windows,door,power):\n",
    "        self.windows = windows\n",
    "        self.door    = door\n",
    "        self.power   = power\n",
    "    def what_base_proce(self):\n",
    "        print('The base price is {0}'.format(Car_k.base_price))\n",
    "        \n",
    "    @classmethod # This is decorator or rule of class method to use cls (https://www.youtube.com/watch?v=CsysumoOjig) this vdo will explain Class Method and Class Variable\n",
    "    def inflaction_target(cls,inflation):\n",
    "        cls.base_price = cls.base_price + inflation*cls.base_price\n",
    "    "
   ]
  },
  {
   "cell_type": "code",
   "execution_count": 10,
   "id": "44d467c6",
   "metadata": {},
   "outputs": [],
   "source": [
    "#Here Obj_1 is my instance variable\n",
    "obj_1 =Car_k(4,6,120)"
   ]
  },
  {
   "cell_type": "code",
   "execution_count": null,
   "id": "fa17a1cd",
   "metadata": {},
   "outputs": [],
   "source": [
    "#self refer towards the instance of a class but the cls refer to class itself"
   ]
  },
  {
   "cell_type": "code",
   "execution_count": 11,
   "id": "dcc64bdd",
   "metadata": {},
   "outputs": [
    {
     "name": "stdout",
     "output_type": "stream",
     "text": [
      "The base price is 1000\n"
     ]
    }
   ],
   "source": [
    "obj_1.what_base_proce()"
   ]
  },
  {
   "cell_type": "code",
   "execution_count": 13,
   "id": "daddcef6",
   "metadata": {},
   "outputs": [],
   "source": [
    "Car_k.inflaction_target(0.1)"
   ]
  },
  {
   "cell_type": "code",
   "execution_count": 15,
   "id": "8d44cb4d",
   "metadata": {},
   "outputs": [
    {
     "data": {
      "text/plain": [
       "1100.0"
      ]
     },
     "execution_count": 15,
     "metadata": {},
     "output_type": "execute_result"
    }
   ],
   "source": [
    "Car_k.base_price"
   ]
  }
 ],
 "metadata": {
  "kernelspec": {
   "display_name": "Python 3 (ipykernel)",
   "language": "python",
   "name": "python3"
  },
  "language_info": {
   "codemirror_mode": {
    "name": "ipython",
    "version": 3
   },
   "file_extension": ".py",
   "mimetype": "text/x-python",
   "name": "python",
   "nbconvert_exporter": "python",
   "pygments_lexer": "ipython3",
   "version": "3.9.12"
  }
 },
 "nbformat": 4,
 "nbformat_minor": 5
}
