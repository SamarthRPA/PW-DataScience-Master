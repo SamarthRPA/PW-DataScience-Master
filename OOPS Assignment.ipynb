{
 "cells": [
  {
   "cell_type": "markdown",
   "id": "0fe1644d",
   "metadata": {},
   "source": [
    "# OOPS Assignment"
   ]
  },
  {
   "cell_type": "raw",
   "id": "506dac2e",
   "metadata": {},
   "source": [
    "1.Explain Calss and object in oops.with suitable example.\n",
    ">>World is object oriented, it is full of objets like sparrow, rose.\n",
    ">>Each object is specific instance of class.For example sparrow is a specific instance of Bird class or Rose is a specific instance of a flower class.\n",
    ">Bird is class.Sparrow,Crow,Eagle are objects of bird class.\n",
    ">Player is class. Virat, Rohit are objects of bird class.\n",
    ">Class describe 2 thing attributrs and functionality.\n",
    ">Class is generic in nature where as object is specific in nature.\n",
    ">Multiple objects ca be created in  a class.\n"
   ]
  },
  {
   "cell_type": "code",
   "execution_count": 1,
   "id": "78512829",
   "metadata": {},
   "outputs": [],
   "source": [
    "#Class and object  example\n",
    "class pwskills:\n",
    "    def __init__(self,firstname,lastname,roll_num):\n",
    "        self.firstname = firstname\n",
    "        self.lastname = lastname\n",
    "        self.roll_num = roll_num\n",
    "    def print_all(self):\n",
    "        return self.firstname,self.lastname,self.roll_num"
   ]
  },
  {
   "cell_type": "code",
   "execution_count": 2,
   "id": "c5b50170",
   "metadata": {},
   "outputs": [],
   "source": [
    "samarth =pwskills('samarth','kulkarni',1)"
   ]
  },
  {
   "cell_type": "code",
   "execution_count": 4,
   "id": "fc8ceccf",
   "metadata": {},
   "outputs": [
    {
     "name": "stdout",
     "output_type": "stream",
     "text": [
      "kulkarni\n"
     ]
    }
   ],
   "source": [
    "print(samarth.lastname)"
   ]
  },
  {
   "cell_type": "code",
   "execution_count": 8,
   "id": "9ad27579",
   "metadata": {},
   "outputs": [
    {
     "data": {
      "text/plain": [
       "('samarth', 'kulkarni', 1)"
      ]
     },
     "execution_count": 8,
     "metadata": {},
     "output_type": "execute_result"
    }
   ],
   "source": [
    "samarth.print_all()"
   ]
  },
  {
   "cell_type": "code",
   "execution_count": 9,
   "id": "cf01129e",
   "metadata": {},
   "outputs": [],
   "source": [
    "prashant = pwskills('prashanta','kumara',2)"
   ]
  },
  {
   "cell_type": "code",
   "execution_count": 10,
   "id": "6e8cccb3",
   "metadata": {},
   "outputs": [
    {
     "data": {
      "text/plain": [
       "('prashanta', 'kumara', 2)"
      ]
     },
     "execution_count": 10,
     "metadata": {},
     "output_type": "execute_result"
    }
   ],
   "source": [
    "prashant.print_all()"
   ]
  },
  {
   "cell_type": "raw",
   "id": "05592cb7",
   "metadata": {},
   "source": [
    "2. The Four pillars of OOps are as below:\n",
    "    Encapsulation\n",
    "    Inheritance\n",
    "    Polymorphism\n",
    "    Abstraction\n",
    "> Encapsulation: This is the concept of bundling data and methods that operate on that data, and restricting access to that data by making it private. This helps to prevent unwanted modifications of the data, and to maintain code consistency.\n",
    "\n",
    ">Inheritance: This is the concept of creating a new class by deriving from an existing one. The new class inherits the attributes and methods of the base class and can add its own attributes and methods or override the existing ones.\n",
    "\n",
    ">Polymorphism: This is the concept of using the same interface to represent different data types. In other words, it allows objects of different classes to be treated as if they were of the same class.\n",
    "\n",
    ">Abstraction: This is the concept of hiding the implementation details of a class and showing only the necessary details to the user. This helps to reduce complexity and make the code more modular and easier to maintain."
   ]
  },
  {
   "cell_type": "raw",
   "id": "9760c620",
   "metadata": {},
   "source": [
    "3.Explain why the __init__() function is used. Give a suitable example.\n",
    "\n",
    ">>The '__init__' function is special method in python classes that is called when an object is created. It is used to initiaized the attributes of objects with default or userdefirne values.\n",
    "\n",
    ">>The '__init__'method is constructur method in python at it takes atleast one argument which is usually called 'self'The self argument refers to object that is being created and is passed automatically passed by python.\n",
    "\n",
    "exampl\n",
    "class Car:\n",
    "    def __init__(self, make, model, year):\n",
    "        self.make = make\n",
    "        self.model = model\n",
    "        self.year = year\n",
    "        self.mileage = 0e\n"
   ]
  },
  {
   "cell_type": "raw",
   "id": "25b41909",
   "metadata": {},
   "source": [
    "4. Why self is used in OOPs?\n",
    ">>In Object-Oriented Programming (OOP), the self keyword is used as a reference to the instance of the class that is being worked with. It is a way to access the attributes and methods of a particular object, and to differentiate between the attributes and methods of the class itself and those of the individual objects of the class"
   ]
  },
  {
   "cell_type": "raw",
   "id": "77d41f48",
   "metadata": {},
   "source": [
    "5.What is inheritance? Give an example for each type of inheritance.\n",
    "\n",
    ">>Inheritance is a fundamental concept in object-oriented programming that allows a new class to be based on an existing class, inheriting its attributes and methods. The existing class is called the parent class (or base class), and the new class is called the child class (or derived class)."
   ]
  },
  {
   "cell_type": "code",
   "execution_count": 11,
   "id": "2e4e1102",
   "metadata": {},
   "outputs": [],
   "source": [
    "#Example of Inheritance as below.\n",
    "class car :\n",
    "    def __init__(self,windows,door,engine_type):\n",
    "        self.windows = windows\n",
    "        self.door = door\n",
    "        self.engine_type = engine_type\n",
    "        \n",
    "    def self_driving(self):\n",
    "        print(\"car is used for driving\")\n",
    "\n",
    "        \n",
    "        "
   ]
  },
  {
   "cell_type": "code",
   "execution_count": 12,
   "id": "1f762287",
   "metadata": {},
   "outputs": [],
   "source": [
    "class audi(car):\n",
    "    def __init__(self,windows,door,engine_type,speed):\n",
    "        super().__init__(windows,door,engine_type)\n",
    "        self.speed =speed\n",
    "        \n",
    "    def display_all(self):\n",
    "        return self.windows,self.engine_type,self.door,self.speed\n",
    "    "
   ]
  },
  {
   "cell_type": "code",
   "execution_count": 13,
   "id": "e8c8764e",
   "metadata": {},
   "outputs": [],
   "source": [
    "audi_1 = audi(4,6,'Petrol',100)"
   ]
  },
  {
   "cell_type": "code",
   "execution_count": 14,
   "id": "84517d7d",
   "metadata": {},
   "outputs": [
    {
     "data": {
      "text/plain": [
       "(4, 'Petrol', 6, 100)"
      ]
     },
     "execution_count": 14,
     "metadata": {},
     "output_type": "execute_result"
    }
   ],
   "source": [
    "audi_1.display_all()"
   ]
  },
  {
   "cell_type": "code",
   "execution_count": null,
   "id": "b838da28",
   "metadata": {},
   "outputs": [],
   "source": []
  }
 ],
 "metadata": {
  "kernelspec": {
   "display_name": "Python 3 (ipykernel)",
   "language": "python",
   "name": "python3"
  },
  "language_info": {
   "codemirror_mode": {
    "name": "ipython",
    "version": 3
   },
   "file_extension": ".py",
   "mimetype": "text/x-python",
   "name": "python",
   "nbconvert_exporter": "python",
   "pygments_lexer": "ipython3",
   "version": "3.9.12"
  }
 },
 "nbformat": 4,
 "nbformat_minor": 5
}
