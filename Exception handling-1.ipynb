{
 "cells": [
  {
   "cell_type": "markdown",
   "id": "47930f9c",
   "metadata": {},
   "source": [
    "# Exception handling-1"
   ]
  },
  {
   "cell_type": "raw",
   "id": "e2d99a2a",
   "metadata": {},
   "source": [
    "Q1. The Exeption is error that occur due to wrong multiple reasons like wrong input data, no data data out of range, blank data etc.\n",
    "\n",
    ">> Exception are diffeent from sytex error in may terms maily the exception will occure while executing a code but syntex error will occur while writing the code.\n",
    "\n",
    ">> Syntex error dont allow to program run, this is not case for exception.\n",
    "\n",
    ">>Customization is option in exception this is not available in syntex error."
   ]
  },
  {
   "cell_type": "raw",
   "id": "652e795c",
   "metadata": {},
   "source": [
    "Q2.If we dont handel exceptions then the code will fail at forst instance without trying anything else.\n",
    ">> The failure rate of exception will increase.\n",
    "\n",
    ">>Constitency of code will go into toss.\n",
    "\n",
    ">please follow below example"
   ]
  },
  {
   "cell_type": "code",
   "execution_count": 2,
   "id": "910d2b5b",
   "metadata": {},
   "outputs": [
    {
     "ename": "ZeroDivisionError",
     "evalue": "division by zero",
     "output_type": "error",
     "traceback": [
      "\u001b[1;31m---------------------------------------------------------------------------\u001b[0m",
      "\u001b[1;31mZeroDivisionError\u001b[0m                         Traceback (most recent call last)",
      "Input \u001b[1;32mIn [2]\u001b[0m, in \u001b[0;36m<cell line: 5>\u001b[1;34m()\u001b[0m\n\u001b[0;32m      1\u001b[0m a \u001b[38;5;241m=\u001b[39m \u001b[38;5;241m0\u001b[39m\n\u001b[0;32m      3\u001b[0m b \u001b[38;5;241m=\u001b[39m \u001b[38;5;241m10\u001b[39m\n\u001b[1;32m----> 5\u001b[0m c\u001b[38;5;241m=\u001b[39m \u001b[43mb\u001b[49m\u001b[38;5;241;43m/\u001b[39;49m\u001b[43ma\u001b[49m\n\u001b[0;32m      7\u001b[0m \u001b[38;5;28mprint\u001b[39m(c)\n",
      "\u001b[1;31mZeroDivisionError\u001b[0m: division by zero"
     ]
    }
   ],
   "source": [
    "a = 0\n",
    "\n",
    "b = 10\n",
    "\n",
    "c= b/a\n",
    "\n",
    "print(c)"
   ]
  },
  {
   "cell_type": "raw",
   "id": "d6fc6c44",
   "metadata": {},
   "source": [
    "Q.3  There are several statements that are use \n",
    "a.Try\n",
    "b.expect\n",
    "c.else\n",
    "d.finally\n",
    "e.Raise or raise\n",
    "\n",
    "a. Try : The line of code which is prone to error we can add in this block, once there is error in this block it will go to except block and perform activity this is alternate to closing the execution of the code.\n",
    "\n",
    "b.expect : once error has occure it can take specific error or generic error and act accordingly.\n",
    "\n",
    "c.else : once try block is true this block will execuited.\n",
    "\n",
    "d.finally : irrespecitve of the execution of try, except or else block this will execuite.\n",
    "\n",
    "e. raise : this statement will use in raising custom exception."
   ]
  },
  {
   "cell_type": "raw",
   "id": "77fd90e6",
   "metadata": {},
   "source": [
    "Q.4."
   ]
  },
  {
   "cell_type": "code",
   "execution_count": null,
   "id": "b1ad69f6",
   "metadata": {},
   "outputs": [],
   "source": [
    "age = int(input(\"pls input your age : \"))\n",
    "try:\n",
    "    if age < 0:\n",
    "        print('please enter the valid age)')\n",
    "    elif age > 200:\n",
    "        print('age cant be that much big')\n",
    "    else :\n",
    "        print('your age is valid')\n",
    "except exception:\n",
    "    print('Unknown excepption occure')\n"
   ]
  },
  {
   "cell_type": "raw",
   "id": "c54d81eb",
   "metadata": {},
   "source": [
    "Q.5 When ever there is business exception at that time we need custom exception, for example the syntex is correct no error thrown but the underline data has some issue in that case we need to raise an exception.\n",
    "\n",
    "> raise is the keyword by using this we can raise exception.\n",
    "\n",
    "> using general try,except block we can handel exception but business exception we can handle using 'Custom Exception'.\n",
    "\n",
    "> Custom exception allows us to customise the message.\n",
    "\n",
    ">custom exception can be raise at any point of time."
   ]
  },
  {
   "cell_type": "code",
   "execution_count": 3,
   "id": "8a9a4c9f",
   "metadata": {},
   "outputs": [],
   "source": [
    "class Error_1(Exception):\n",
    "    pass\n"
   ]
  },
  {
   "cell_type": "code",
   "execution_count": 4,
   "id": "604617db",
   "metadata": {},
   "outputs": [],
   "source": [
    "def valid_number(age):\n",
    "    if age <= 0 :\n",
    "        raise Error_1('error')\n",
    "    elif age > 200:\n",
    "        raise Error_1\n",
    "    else:\n",
    "        print('age is valid')"
   ]
  },
  {
   "cell_type": "code",
   "execution_count": null,
   "id": "f54c90b2",
   "metadata": {},
   "outputs": [],
   "source": [
    "try:\n",
    "    age = int(input(\"pls input your age : \"))\n",
    "    valid_number(age)\n",
    "except Error_1 as e:\n",
    "    print(e)"
   ]
  }
 ],
 "metadata": {
  "kernelspec": {
   "display_name": "Python 3 (ipykernel)",
   "language": "python",
   "name": "python3"
  },
  "language_info": {
   "codemirror_mode": {
    "name": "ipython",
    "version": 3
   },
   "file_extension": ".py",
   "mimetype": "text/x-python",
   "name": "python",
   "nbconvert_exporter": "python",
   "pygments_lexer": "ipython3",
   "version": "3.9.12"
  }
 },
 "nbformat": 4,
 "nbformat_minor": 5
}
