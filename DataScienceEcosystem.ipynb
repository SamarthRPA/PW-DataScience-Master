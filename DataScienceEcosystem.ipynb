{
 "cells": [
  {
   "cell_type": "markdown",
   "id": "0b5f7089",
   "metadata": {},
   "source": [
    "# Data Science Tools and Ecosystem"
   ]
  },
  {
   "cell_type": "markdown",
   "id": "cbaa9e7f",
   "metadata": {},
   "source": [
    "In this notebook, Data Science Tools and Ecosystem are summarized."
   ]
  },
  {
   "cell_type": "markdown",
   "id": "1fe6df2e",
   "metadata": {},
   "source": [
    "Some of the popular languages that Data Scientists use are:\n"
   ]
  },
  {
   "cell_type": "markdown",
   "id": "a000b382",
   "metadata": {},
   "source": [
    "1.R\n",
    "\n",
    "2.Python\n",
    "\n",
    "3.SQL\n",
    "\n",
    "4.Scala\n",
    "\n",
    "5.Java\n",
    "\n",
    "6.C++\n",
    "\n",
    "7.Julia\n",
    "\n",
    "8.Go\n",
    "\n",
    "9.Ruby\n",
    "\n",
    "10.Visual Basic"
   ]
  },
  {
   "cell_type": "markdown",
   "id": "7e8d0ef2",
   "metadata": {},
   "source": [
    "Some of the commonly used libraries used by Data Scientists include:\n"
   ]
  },
  {
   "cell_type": "markdown",
   "id": "87bbc9f4",
   "metadata": {},
   "source": [
    "1.Pandas\n",
    "\n",
    "2.Numpy\n",
    "\n",
    "3.Matplotlib\n",
    "\n",
    "4.Seaborn\n",
    "\n",
    "5.Scikit-learn\n",
    "\n",
    "6.Keras\n",
    "\n",
    "7.TensorFlow\n",
    "\n",
    "8.PyTorch\n",
    "\n",
    "9.Apache Spark\n",
    "\n",
    "10.Ggplot2"
   ]
  },
  {
   "cell_type": "markdown",
   "id": "132e098b",
   "metadata": {},
   "source": [
    "**Data Science Tools**\n"
   ]
  },
  {
   "cell_type": "markdown",
   "id": "143b40c4",
   "metadata": {},
   "source": [
    "- Anaconda\n",
    "\n",
    "- Jupyter Notebook\n",
    "\n",
    "- R Studio\n",
    "\n",
    "- Spyder\n",
    "\n",
    "- Zeppeline"
   ]
  },
  {
   "cell_type": "markdown",
   "id": "3b1be679",
   "metadata": {},
   "source": [
    "**Below are a few examples of evaluating arithmetic expressions in Python** :"
   ]
  },
  {
   "cell_type": "code",
   "execution_count": 22,
   "id": "90331aaf",
   "metadata": {},
   "outputs": [
    {
     "name": "stdout",
     "output_type": "stream",
     "text": [
      "10\n"
     ]
    }
   ],
   "source": [
    "#Addition - +\n",
    "a = 4\n",
    "b = 6\n",
    "c = a + b\n",
    "print(c)"
   ]
  },
  {
   "cell_type": "code",
   "execution_count": 23,
   "id": "64bbb67e",
   "metadata": {},
   "outputs": [
    {
     "name": "stdout",
     "output_type": "stream",
     "text": [
      "2\n"
     ]
    }
   ],
   "source": [
    "#Substraction\n",
    "a = 6\n",
    "b = 4\n",
    "c = a-b\n",
    "print(c)"
   ]
  },
  {
   "cell_type": "code",
   "execution_count": 29,
   "id": "42ed45b2",
   "metadata": {},
   "outputs": [
    {
     "name": "stdout",
     "output_type": "stream",
     "text": [
      "14\n"
     ]
    }
   ],
   "source": [
    "#Multiplication - *\n",
    "a = 2\n",
    "b = 7\n",
    "c = a*b\n",
    "print(c)"
   ]
  },
  {
   "cell_type": "code",
   "execution_count": 26,
   "id": "56dcea47",
   "metadata": {},
   "outputs": [
    {
     "name": "stdout",
     "output_type": "stream",
     "text": [
      "2\n"
     ]
    }
   ],
   "source": [
    "#Modulu - %\n",
    "a = 2\n",
    "b = 7\n",
    "c = a%b\n",
    "print(c)"
   ]
  },
  {
   "cell_type": "code",
   "execution_count": 27,
   "id": "d0824763",
   "metadata": {},
   "outputs": [
    {
     "name": "stdout",
     "output_type": "stream",
     "text": [
      "9\n"
     ]
    }
   ],
   "source": [
    "#Exponent - **\n",
    "a = 3\n",
    "b = 2\n",
    "c = a ** b\n",
    "print(c)\n"
   ]
  },
  {
   "cell_type": "code",
   "execution_count": 28,
   "id": "066de083",
   "metadata": {},
   "outputs": [
    {
     "name": "stdout",
     "output_type": "stream",
     "text": [
      "1\n"
     ]
    }
   ],
   "source": [
    "#Floor Division\n",
    "a = 3\n",
    "b = 2\n",
    "c = a //b\n",
    "print(c)"
   ]
  },
  {
   "cell_type": "code",
   "execution_count": 16,
   "id": "132ee373",
   "metadata": {},
   "outputs": [],
   "source": [
    "#This a simple arithmetic expression to mutiply then add integers"
   ]
  },
  {
   "cell_type": "code",
   "execution_count": 17,
   "id": "5b78b28b",
   "metadata": {},
   "outputs": [
    {
     "data": {
      "text/plain": [
       "17"
      ]
     },
     "execution_count": 17,
     "metadata": {},
     "output_type": "execute_result"
    }
   ],
   "source": [
    "(3*4)+5"
   ]
  },
  {
   "cell_type": "code",
   "execution_count": 18,
   "id": "0419af49",
   "metadata": {},
   "outputs": [
    {
     "name": "stdout",
     "output_type": "stream",
     "text": [
      "3.3333333333333335\n"
     ]
    }
   ],
   "source": [
    "#Conver minutes into hours\n",
    "#This will convert 200 minutes to hours by diving by 60\n",
    "a = 200\n",
    "b = a/60\n",
    "print(b)"
   ]
  },
  {
   "cell_type": "markdown",
   "id": "957dec49",
   "metadata": {},
   "source": [
    "**Objectives**:\n",
    "- In this note book we have learn the free tools for data science.\n",
    "- The most popular languages\n",
    "- The Arthematic operations."
   ]
  },
  {
   "cell_type": "markdown",
   "id": "56f6487b",
   "metadata": {},
   "source": [
    "## Author :\n",
    " Samarth Kulkarni"
   ]
  },
  {
   "cell_type": "code",
   "execution_count": null,
   "id": "8b10c4d0",
   "metadata": {},
   "outputs": [],
   "source": []
  }
 ],
 "metadata": {
  "kernelspec": {
   "display_name": "Python 3 (ipykernel)",
   "language": "python",
   "name": "python3"
  },
  "language_info": {
   "codemirror_mode": {
    "name": "ipython",
    "version": 3
   },
   "file_extension": ".py",
   "mimetype": "text/x-python",
   "name": "python",
   "nbconvert_exporter": "python",
   "pygments_lexer": "ipython3",
   "version": "3.11.5"
  }
 },
 "nbformat": 4,
 "nbformat_minor": 5
}
