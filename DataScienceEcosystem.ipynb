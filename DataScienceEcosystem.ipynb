{
 "cells": [
  {
   "cell_type": "markdown",
   "id": "0b5f7089",
   "metadata": {},
   "source": [
    "# Data Science Tools and Ecosystem"
   ]
  },
  {
   "cell_type": "markdown",
   "id": "cbaa9e7f",
   "metadata": {},
   "source": [
    "In this notebook, Data Science Tools and Ecosystem are summarized."
   ]
  },
  {
   "cell_type": "markdown",
   "id": "1fe6df2e",
   "metadata": {},
   "source": [
    "Some of the popular languages that Data Scientists use are:\n",
    "1.Python\n",
    "2.R Language\n",
    "3.Scala\n",
    "4.Java"
   ]
  },
  {
   "cell_type": "markdown",
   "id": "7e8d0ef2",
   "metadata": {},
   "source": [
    "Some of the commonly used libraries used by Data Scientists include:\n",
    "1.Pandas\n",
    "2.numpy\n",
    "3.Matplotlib\n",
    "4.plyplot"
   ]
  },
  {
   "cell_type": "markdown",
   "id": "132e098b",
   "metadata": {},
   "source": [
    "Data Science Tools\n",
    "1.R\n",
    "2.Python\n",
    "3.SQL"
   ]
  },
  {
   "cell_type": "markdown",
   "id": "3b1be679",
   "metadata": {},
   "source": [
    "Below are a few examples of evaluating arithmetic expressions in Python :\n",
    "1.Addition - +\n",
    "2.Substraction - -\n",
    "3.Multiplication - *\n",
    "4.Modulu - %\n",
    "5.Exponent - **\n",
    "6.Floor Division - //"
   ]
  },
  {
   "cell_type": "code",
   "execution_count": 16,
   "id": "132ee373",
   "metadata": {},
   "outputs": [],
   "source": [
    "#This a simple arithmetic expression to mutiply then add integers"
   ]
  },
  {
   "cell_type": "code",
   "execution_count": 17,
   "id": "5b78b28b",
   "metadata": {},
   "outputs": [
    {
     "data": {
      "text/plain": [
       "17"
      ]
     },
     "execution_count": 17,
     "metadata": {},
     "output_type": "execute_result"
    }
   ],
   "source": [
    "(3*4)+5"
   ]
  },
  {
   "cell_type": "code",
   "execution_count": 18,
   "id": "0419af49",
   "metadata": {},
   "outputs": [
    {
     "name": "stdout",
     "output_type": "stream",
     "text": [
      "3.3333333333333335\n"
     ]
    }
   ],
   "source": [
    "#Conver minutes into hours\n",
    "#This will convert 200 minutes to hours by diving by 60\n",
    "a = 200\n",
    "b = a/60\n",
    "print(b)"
   ]
  },
  {
   "cell_type": "markdown",
   "id": "957dec49",
   "metadata": {},
   "source": [
    "**Objectives**:\n",
    "- In this note book we have learn the free tools for data science.\n",
    "- The most popular languages\n",
    "- The Arthematic operations."
   ]
  },
  {
   "cell_type": "markdown",
   "id": "56f6487b",
   "metadata": {},
   "source": [
    "## Author :\n",
    " Samarth Kulkarni"
   ]
  },
  {
   "cell_type": "code",
   "execution_count": null,
   "id": "8b10c4d0",
   "metadata": {},
   "outputs": [],
   "source": []
  }
 ],
 "metadata": {
  "kernelspec": {
   "display_name": "Python 3 (ipykernel)",
   "language": "python",
   "name": "python3"
  },
  "language_info": {
   "codemirror_mode": {
    "name": "ipython",
    "version": 3
   },
   "file_extension": ".py",
   "mimetype": "text/x-python",
   "name": "python",
   "nbconvert_exporter": "python",
   "pygments_lexer": "ipython3",
   "version": "3.11.5"
  }
 },
 "nbformat": 4,
 "nbformat_minor": 5
}
