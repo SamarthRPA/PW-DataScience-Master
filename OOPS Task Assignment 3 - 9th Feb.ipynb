{
 "cells": [
  {
   "cell_type": "raw",
   "id": "ebe2265f",
   "metadata": {},
   "source": [
    "1.Create a vehicle class with an init method having instance variables as name_of_vehicle, max_speed\n",
    "and average_of_vehicle."
   ]
  },
  {
   "cell_type": "code",
   "execution_count": 1,
   "id": "92824f13",
   "metadata": {},
   "outputs": [],
   "source": [
    "class Vehicle:\n",
    "    def __init__(self,name_of_vehicle,max_speed,average_of_vehicle):\n",
    "        self.name_of_vehicle = name_of_vehicle\n",
    "        self.max_speed =max_speed\n",
    "        self.average_of_vehicle = average_of_vehicle\n",
    "        \n",
    "    def runtun_all_vales(self):\n",
    "        return self.name_of_vehicle,self.max_speed,self.average_of_vehicle"
   ]
  },
  {
   "cell_type": "code",
   "execution_count": 2,
   "id": "4c14b0a1",
   "metadata": {},
   "outputs": [],
   "source": [
    "Addi = Vehicle('Grand Audi',250,13)"
   ]
  },
  {
   "cell_type": "code",
   "execution_count": 3,
   "id": "40defd38",
   "metadata": {},
   "outputs": [
    {
     "data": {
      "text/plain": [
       "('Grand Audi', 250, 13)"
      ]
     },
     "execution_count": 3,
     "metadata": {},
     "output_type": "execute_result"
    }
   ],
   "source": [
    "Addi.runtun_all_vales()"
   ]
  },
  {
   "cell_type": "raw",
   "id": "6927a5cb",
   "metadata": {},
   "source": [
    "Q2. Create a child class car from the vehicle class created in Que 1, which will inherit the vehicle class.\n",
    "Create a method named seating_capacity which takes capacity as an argument and returns the name of\n",
    "the vehicle and its seating capacity."
   ]
  },
  {
   "cell_type": "code",
   "execution_count": 4,
   "id": "59a00c80",
   "metadata": {},
   "outputs": [],
   "source": [
    "class Car(Vehicle):\n",
    "    def seating_capacity(self,name_of_vehicle,seating_capacity):\n",
    "        self.seating_capacity = seating_capacity\n",
    "        \n",
    "    def print_al_here(self):\n",
    "        return self.name_of_vehicle ,self.seating_capacity\n",
    "    \n",
    "    "
   ]
  },
  {
   "cell_type": "code",
   "execution_count": 6,
   "id": "10aef29c",
   "metadata": {},
   "outputs": [],
   "source": [
    "test2 = Car('audi',10,3)"
   ]
  },
  {
   "cell_type": "code",
   "execution_count": 7,
   "id": "5bb60276",
   "metadata": {},
   "outputs": [
    {
     "data": {
      "text/plain": [
       "('audi',\n",
       " <bound method Car.seating_capacity of <__main__.Car object at 0x00000270A5DF1490>>)"
      ]
     },
     "execution_count": 7,
     "metadata": {},
     "output_type": "execute_result"
    }
   ],
   "source": [
    "test2.print_al_here()"
   ]
  },
  {
   "cell_type": "raw",
   "id": "b9fbf1f0",
   "metadata": {},
   "source": [
    "Q3. What is multiple inheritance? Write a python code to demonstrate multiple inheritance."
   ]
  },
  {
   "cell_type": "raw",
   "id": "f235a965",
   "metadata": {},
   "source": [
    " > The Multi Line inheritance is using methods from more than 2 calss in python. The call may be or may not be related to each othere.\n",
    " > The Multi-line comment is used to use more functio from and methods from different class.\n",
    " \n",
    " > Below example will showcase the same."
   ]
  },
  {
   "cell_type": "code",
   "execution_count": 8,
   "id": "30e3a598",
   "metadata": {},
   "outputs": [],
   "source": [
    "class Mohanrao():\n",
    "    def exam_parent(self):\n",
    "        print('this is parent class')"
   ]
  },
  {
   "cell_type": "code",
   "execution_count": 9,
   "id": "8fe623d1",
   "metadata": {},
   "outputs": [],
   "source": [
    "class Tejaswini():\n",
    "    def exam_mother_parent(self):\n",
    "        print('I am mother parent')"
   ]
  },
  {
   "cell_type": "code",
   "execution_count": 10,
   "id": "60c95f53",
   "metadata": {},
   "outputs": [],
   "source": [
    "class Samarth(Mohanrao,Tejaswini):\n",
    "    pass"
   ]
  },
  {
   "cell_type": "code",
   "execution_count": 11,
   "id": "b0366f9d",
   "metadata": {},
   "outputs": [],
   "source": [
    "getting_inheritance = Samarth()"
   ]
  },
  {
   "cell_type": "code",
   "execution_count": 13,
   "id": "941116c8",
   "metadata": {},
   "outputs": [
    {
     "name": "stdout",
     "output_type": "stream",
     "text": [
      "this is parent class\n"
     ]
    }
   ],
   "source": [
    "getting_inheritance.exam_parent()"
   ]
  },
  {
   "cell_type": "code",
   "execution_count": 14,
   "id": "bb234992",
   "metadata": {},
   "outputs": [
    {
     "name": "stdout",
     "output_type": "stream",
     "text": [
      "I am mother parent\n"
     ]
    }
   ],
   "source": [
    "getting_inheritance.exam_mother_parent()"
   ]
  },
  {
   "cell_type": "raw",
   "id": "8e325cb2",
   "metadata": {},
   "source": [
    "Q4. What are getter and setter in python? Create a class and create a getter and a setter method in this\n",
    "class."
   ]
  },
  {
   "cell_type": "raw",
   "id": "c5542a35",
   "metadata": {},
   "source": [
    ">> In Python, getters and setters are methods used to access and modify the values of class attributes, respectively.\n",
    ">> The purpose of using getters and setters is to control the access to the attributes of a class, as well as to provide a level of abstraction between the user and the class."
   ]
  },
  {
   "cell_type": "code",
   "execution_count": null,
   "id": "37f3026c",
   "metadata": {},
   "outputs": [],
   "source": [
    "class Person:\n",
    "    def __init__(self, name, age):\n",
    "        self.name = name\n",
    "        self.__age = age  # Double underscore makes it private\n",
    "        \n",
    "    def get_age(self):\n",
    "        return self.__age\n",
    "        \n",
    "    def set_age(self, age):\n",
    "        if age > 0 and age < 120:\n",
    "            self.__age = age\n",
    "        else:\n",
    "            print(\"Invalid age.\")\n",
    "            \n",
    "person = Person(\"John\", 30)\n",
    "print(person.get_age())  # Output: 30\n",
    "person.set_age(35)\n",
    "print(person.get_age())  # Output: 35\n",
    "person.set_age(150)  # Output: Invalid age."
   ]
  },
  {
   "cell_type": "raw",
   "id": "1c447403",
   "metadata": {},
   "source": [
    " > Here's an example of a class that has a private attribute, age, and uses getter and setter methods to access and modify the attribute\n",
    " \n",
    " > In this example, the Person class has a private attribute __age, which can only be accessed and modified using the getter and setter methods, get_age() and set_age(). The get_age() method simply returns the value of __age, while the set_age() method allows the user to set a new value for __age, but only if it is between 0 and 120. If the user tries to set an invalid value, the set_age() method prints an error message.\n",
    "\n",
    "By using getter and setter methods, the class designer can control the access to the attributes of the class and add validation rules for the values that can be set for those attributes."
   ]
  },
  {
   "cell_type": "raw",
   "id": "389d3830",
   "metadata": {},
   "source": [
    "Q5.What is method overriding in python? Write a python code to demonstrate method overriding."
   ]
  },
  {
   "cell_type": "raw",
   "id": "4169e9d3",
   "metadata": {},
   "source": [
    " >> Method overriding is a feature of object-oriented programming languages where the subclass or child class can provide the program with specific characteristics or a specific implementation process of data provided that are already defined in the parent class or superclass."
   ]
  },
  {
   "cell_type": "code",
   "execution_count": 15,
   "id": "691d8f8b",
   "metadata": {},
   "outputs": [],
   "source": [
    "class Animal:\n",
    "    def speak(self):\n",
    "        print(\"The animal is speaking.\")\n",
    "\n",
    "class Dog(Animal):\n",
    "    def speak(self):\n",
    "        print(\"The dog is barking.\")"
   ]
  },
  {
   "cell_type": "code",
   "execution_count": 16,
   "id": "6800b1ca",
   "metadata": {},
   "outputs": [],
   "source": [
    "test = Dog()"
   ]
  },
  {
   "cell_type": "code",
   "execution_count": 17,
   "id": "51998ee6",
   "metadata": {},
   "outputs": [
    {
     "name": "stdout",
     "output_type": "stream",
     "text": [
      "The dog is barking.\n"
     ]
    }
   ],
   "source": [
    "test.speak()"
   ]
  },
  {
   "cell_type": "code",
   "execution_count": 18,
   "id": "b3def48c",
   "metadata": {},
   "outputs": [],
   "source": [
    "#In Above Example the overriding is done by child class with respect to Parent Class."
   ]
  },
  {
   "cell_type": "code",
   "execution_count": null,
   "id": "18714336",
   "metadata": {},
   "outputs": [],
   "source": []
  }
 ],
 "metadata": {
  "kernelspec": {
   "display_name": "Python 3 (ipykernel)",
   "language": "python",
   "name": "python3"
  },
  "language_info": {
   "codemirror_mode": {
    "name": "ipython",
    "version": 3
   },
   "file_extension": ".py",
   "mimetype": "text/x-python",
   "name": "python",
   "nbconvert_exporter": "python",
   "pygments_lexer": "ipython3",
   "version": "3.9.12"
  }
 },
 "nbformat": 4,
 "nbformat_minor": 5
}
