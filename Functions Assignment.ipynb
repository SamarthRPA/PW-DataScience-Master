{
 "cells": [
  {
   "cell_type": "markdown",
   "id": "78a3f6e7",
   "metadata": {},
   "source": [
    "# Functions Assigments"
   ]
  },
  {
   "cell_type": "raw",
   "id": "95483e6a",
   "metadata": {},
   "source": [
    "1.The keyword used to create function is 'def'\n",
    "#Function to return list of odd numbers in range 1-25.\n",
    "def odd_num(n):"
   ]
  },
  {
   "cell_type": "code",
   "execution_count": 14,
   "id": "c43813b9",
   "metadata": {},
   "outputs": [],
   "source": [
    "#Function to return list of odd numbers in range 1-25.\n",
    "def odd_num(n):\n",
    "    x=[]\n",
    "    for i in range(0,n):\n",
    "        if i%2 != 0:\n",
    "            x.append(i)\n",
    "    return x\n",
    "    "
   ]
  },
  {
   "cell_type": "code",
   "execution_count": 13,
   "id": "e2876b4c",
   "metadata": {},
   "outputs": [
    {
     "data": {
      "text/plain": [
       "[0, 2, 4, 6, 8, 10, 12, 14, 16, 18, 20, 22, 24]"
      ]
     },
     "execution_count": 13,
     "metadata": {},
     "output_type": "execute_result"
    }
   ],
   "source": [
    "odd_num(25)"
   ]
  },
  {
   "cell_type": "raw",
   "id": "2170f5ff",
   "metadata": {},
   "source": [
    "2. The usage of *args and **kwargs is required because, when it is not fixed how many arguments need to pass.\n",
    "The *args returns the list as the output whare as **kwargs return key-value pair."
   ]
  },
  {
   "cell_type": "code",
   "execution_count": 15,
   "id": "ecebcf6e",
   "metadata": {},
   "outputs": [],
   "source": [
    "def argus(*argus):\n",
    "    c=[]\n",
    "    for i in argus:\n",
    "        if type(i) == int:\n",
    "            c.append(i)\n",
    "    return c\n",
    "            "
   ]
  },
  {
   "cell_type": "code",
   "execution_count": 17,
   "id": "9dad81d8",
   "metadata": {},
   "outputs": [
    {
     "data": {
      "text/plain": [
       "[10, 20]"
      ]
     },
     "execution_count": 17,
     "metadata": {},
     "output_type": "execute_result"
    }
   ],
   "source": [
    "argus(10,20,'samarth','gurukul','appamama')"
   ]
  },
  {
   "cell_type": "code",
   "execution_count": 19,
   "id": "1c4c7298",
   "metadata": {},
   "outputs": [],
   "source": [
    "def kwargus(**kwargus):\n",
    "    for i in kwargus.keys():\n",
    "        if type(kwargus[i]) == str:\n",
    "            return i, kwargus[i]"
   ]
  },
  {
   "cell_type": "code",
   "execution_count": 20,
   "id": "52327e57",
   "metadata": {},
   "outputs": [
    {
     "data": {
      "text/plain": [
       "('a', 'samarth')"
      ]
     },
     "execution_count": 20,
     "metadata": {},
     "output_type": "execute_result"
    }
   ],
   "source": [
    "kwargus(a='samarth',b=34,c='rajesh')"
   ]
  },
  {
   "cell_type": "raw",
   "id": "3e253c98",
   "metadata": {},
   "source": [
    "3.What are iterators\n",
    "A object is called iterable if it is capable of returning its members one at a time.\n",
    "An iterator in Python is an object that can be iterated (looped) upon. In other words, an iterator is an object that implements the iterator protocol, which consists of the methods __iter__() and __next__()"
   ]
  },
  {
   "cell_type": "raw",
   "id": "2295030e",
   "metadata": {},
   "source": [
    "4.Generator Function in Python > \n",
    "The Generator function is special type of function used in python that allows to create iterator. This is defiend using 'yield' keyword.\n",
    "when you call a generator function it returns generator objects, which can be used in for loop or with next function.\n",
    "\n",
    "Generator function generates one value at a time isted of generating multiple value at a time upfrontly.\n",
    "Below is example of generator function"
   ]
  },
  {
   "cell_type": "code",
   "execution_count": 32,
   "id": "5a004dcd",
   "metadata": {},
   "outputs": [],
   "source": [
    "def test_fib(n):\n",
    "    a,b = 0,1\n",
    "    for i in range(n):\n",
    "        yield a\n",
    "        a,b = b,a+b"
   ]
  },
  {
   "cell_type": "code",
   "execution_count": 33,
   "id": "04291dee",
   "metadata": {},
   "outputs": [
    {
     "name": "stdout",
     "output_type": "stream",
     "text": [
      "0\n",
      "1\n",
      "1\n",
      "2\n",
      "3\n",
      "5\n",
      "8\n",
      "13\n",
      "21\n",
      "34\n",
      "55\n",
      "89\n"
     ]
    }
   ],
   "source": [
    "for i in test_fib(12):\n",
    "    print(i)"
   ]
  },
  {
   "cell_type": "raw",
   "id": "90ba2a12",
   "metadata": {},
   "source": [
    "5.Generator Function"
   ]
  },
  {
   "cell_type": "code",
   "execution_count": 34,
   "id": "29ef55f1",
   "metadata": {},
   "outputs": [
    {
     "name": "stdout",
     "output_type": "stream",
     "text": [
      "range(0, 100)\n"
     ]
    }
   ],
   "source": [
    "print(range(100))"
   ]
  },
  {
   "cell_type": "code",
   "execution_count": null,
   "id": "d19d2dd4",
   "metadata": {},
   "outputs": [],
   "source": []
  },
  {
   "cell_type": "code",
   "execution_count": null,
   "id": "30893566",
   "metadata": {},
   "outputs": [],
   "source": []
  },
  {
   "cell_type": "code",
   "execution_count": null,
   "id": "2ce9d9ee",
   "metadata": {},
   "outputs": [],
   "source": [
    "prime_numbers = prime_number_generator()\n",
    "\n",
    "for i in range(20):\n",
    "    print(next(prime_number_generator()))"
   ]
  },
  {
   "cell_type": "code",
   "execution_count": 41,
   "id": "a96210ae",
   "metadata": {},
   "outputs": [],
   "source": [
    "def prime_number_generator():\n",
    "    primes = []\n",
    "    for num in range(2, 1000):\n",
    "        for prime in primes:\n",
    "            if num % prime == 0:\n",
    "                break\n",
    "        else:\n",
    "            primes.append(num)\n",
    "            yield num\n",
    "prime_numbers = prime_number_generator()"
   ]
  },
  {
   "cell_type": "code",
   "execution_count": 42,
   "id": "2d6c76d3",
   "metadata": {},
   "outputs": [
    {
     "name": "stdout",
     "output_type": "stream",
     "text": [
      "2\n",
      "3\n",
      "5\n",
      "7\n",
      "11\n",
      "13\n",
      "17\n",
      "19\n",
      "23\n",
      "29\n",
      "31\n",
      "37\n",
      "41\n",
      "43\n",
      "47\n",
      "53\n",
      "59\n",
      "61\n",
      "67\n",
      "71\n"
     ]
    }
   ],
   "source": [
    "for i in range(20):\n",
    "    print(next(prime_numbers))"
   ]
  },
  {
   "cell_type": "code",
   "execution_count": null,
   "id": "cf0d8e33",
   "metadata": {},
   "outputs": [],
   "source": []
  }
 ],
 "metadata": {
  "kernelspec": {
   "display_name": "Python 3 (ipykernel)",
   "language": "python",
   "name": "python3"
  },
  "language_info": {
   "codemirror_mode": {
    "name": "ipython",
    "version": 3
   },
   "file_extension": ".py",
   "mimetype": "text/x-python",
   "name": "python",
   "nbconvert_exporter": "python",
   "pygments_lexer": "ipython3",
   "version": "3.9.12"
  }
 },
 "nbformat": 4,
 "nbformat_minor": 5
}
