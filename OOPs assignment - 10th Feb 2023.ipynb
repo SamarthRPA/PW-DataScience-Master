{
 "cells": [
  {
   "cell_type": "markdown",
   "id": "678ca186",
   "metadata": {},
   "source": [
    "# OOPs assignment"
   ]
  },
  {
   "cell_type": "raw",
   "id": "2ddf6608",
   "metadata": {},
   "source": [
    "Q1. Which function is used to open a file? What are the different modes of opening a file? Explain each mode\n",
    "of file opening.\n",
    "Q2. Why close() function is used? Why is it important to close a file?\n",
    "Q3. Write a python program to create a text file. Write ‘I want to become a Data Scientist’ in that file. Then\n",
    "close the file. Open this file and read the content of the file.\n",
    "Q4. Explain the following with python code: read(), readline() and readlines().\n",
    "Q5. Explain why with statement is used with open(). What is the advantage of using with statement and\n",
    "open() together?\n",
    "Q6. Explain the write() and writelines() functions. Give a suitable example."
   ]
  },
  {
   "attachments": {},
   "cell_type": "markdown",
   "id": "5f458bdc",
   "metadata": {},
   "source": [
    "Q1. Which function is used to open a file? What are the different modes of opening a file? Explain each mode\n",
    "of file opening.\n",
    "\n",
    "> Open Function is used to open() function which stors the file as a object. There are specific options provided to read write and modify the file,.\n",
    "\n",
    "> To open the file, we use open() function which stores as a file object.\n",
    "\n",
    ">To read the entire file we use read() method on the file object.\n",
    "\n",
    ">To write the file we can use write() method on the file object.\n",
    "\n",
    "> To Close the file we can use close() object"
   ]
  },
  {
   "cell_type": "markdown",
   "id": "91fd4f61",
   "metadata": {},
   "source": [
    " Q2. Why close() function is used? Why is it important to close a file?\n",
    " \n",
    " > to close a file we have to use close() function it closes the file.\n",
    " \n",
    " >To Close the file we can use close() object\n",
    " \n",
    " > If the big file are open in code it may slow the operations."
   ]
  },
  {
   "cell_type": "markdown",
   "id": "8b06fa30",
   "metadata": {},
   "source": [
    "Q3. Write a python program to create a text file. Write ‘I want to become a Data Scientist’ in that file. Then\n",
    "close the file. Open this file and read the content of the file.\n",
    "\n",
    "test_file = open(\"Second_File_1.txt\",\"w\")\n",
    "test_file.write(\"I want to become a Data Scientist\")\n",
    "test_file.close()"
   ]
  },
  {
   "cell_type": "code",
   "execution_count": 3,
   "id": "f51f5dd6",
   "metadata": {},
   "outputs": [],
   "source": [
    "test_file = open(\"Second_File_1.txt\",\"w\")\n",
    "test_file.write(\"I want to become a Data Scientist\")\n",
    "test_file.close()"
   ]
  },
  {
   "cell_type": "code",
   "execution_count": 7,
   "id": "80c680da",
   "metadata": {},
   "outputs": [
    {
     "name": "stdout",
     "output_type": "stream",
     "text": [
      "I want to become a Data Scientist\n"
     ]
    }
   ],
   "source": [
    "test_read = open(\"Second_File_1.txt\",\"r\")\n",
    "for line in test_read:\n",
    "    print(line)"
   ]
  },
  {
   "cell_type": "markdown",
   "id": "d415fdf1",
   "metadata": {},
   "source": [
    "Q4. Explain the following with python code: read(), readline() and readlines().\n",
    ">This functions are used to read the files from the text files.\n",
    "\n",
    "In Python, the three methods read(), readline(), and readlines() are used to read data from a file.\n",
    "\n",
    ">> read(): This method reads the entire file at once and returns the contents as a string. It takes an optional parameter size which specifies the number of bytes to read. If no argument is passed, it reads the entire file.\n",
    "Here's an example of how to use read() to read the entire contents of a file:\n",
    "\n",
    ">> readline(): This method reads a single line from the file and returns it as a string. It takes an optional parameter size which specifies the number of bytes to read. If no argument is passed, it reads until the end of the line.\n",
    "\n",
    "\n",
    ">>readlines(): This method reads all the lines of the file and returns them as a list of strings. Each string represents a line, with the newline character at the end of the line.\n"
   ]
  },
  {
   "cell_type": "markdown",
   "id": "fa4e0fb4",
   "metadata": {},
   "source": [
    "Q5. Explain why with statement is used with open(). What is the advantage of using with statement and\n",
    "open() together?\n",
    ">> In Python, the with statement is used to wrap a block of code with methods defined by a context manager. A context manager is an object that defines the methods __enter__() and __exit__() which are called at the beginning and end of the block of code, respectively.\n",
    "\n",
    ">> When using the with statement with the built-in open() function, the context manager is responsible for opening and closing the file. This means that we don't have to worry about closing the file manually, as the context manager takes care of it for us.\n",
    "\n",
    ">> The advantage of using the with statement and open() together is that it ensures that the file is closed properly, even if an error occurs. If an exception is raised while the file is open, the context manager's __exit__() method will still be called, allowing it to close the file and release any system resources that were being used.\n",
    "\n",
    ">>In summary, using the with statement and open() together provides a clean and concise way to open and read files, and ensures that the file is closed properly even if an error occurs."
   ]
  },
  {
   "cell_type": "code",
   "execution_count": 9,
   "id": "b355ff0b",
   "metadata": {},
   "outputs": [
    {
     "name": "stdout",
     "output_type": "stream",
     "text": [
      "I want to become a Data Scientist\n"
     ]
    }
   ],
   "source": [
    "with open(\"Second_File_1.txt\", 'r') as file:\n",
    "    data = file.read()\n",
    "    print(data)"
   ]
  },
  {
   "cell_type": "raw",
   "id": "d4fa0bc7",
   "metadata": {},
   "source": [
    "Q6. Explain the write() and writelines() functions. Give a suitable example.\n",
    "\n",
    ">write(): This method is used to write a string to a file. It takes a string as an argument and writes it to the file. If the file is not opened in write mode ('w'), the write() method will raise an error.\n",
    ">Example with open \n",
    "\n",
    "with open('file.txt', 'w') as file:\n",
    "    file.write('This is the first line\\n')\n",
    "    file.write('This is the second line\\n')\n",
    "\n",
    "\n",
    "> writelines(): This method is used to write a list of strings to a file. Each string in the list represents a line, with the newline character at the end of the line.\n",
    "\n",
    "with open('file.txt', 'w') as file:\n",
    "    lines = ['This is the first line\\n', 'This is the second line\\n']\n",
    "    file.writelines(lines)\n"
   ]
  }
 ],
 "metadata": {
  "kernelspec": {
   "display_name": "Python 3 (ipykernel)",
   "language": "python",
   "name": "python3"
  },
  "language_info": {
   "codemirror_mode": {
    "name": "ipython",
    "version": 3
   },
   "file_extension": ".py",
   "mimetype": "text/x-python",
   "name": "python",
   "nbconvert_exporter": "python",
   "pygments_lexer": "ipython3",
   "version": "3.9.12"
  }
 },
 "nbformat": 4,
 "nbformat_minor": 5
}
