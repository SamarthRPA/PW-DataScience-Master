{
 "cells": [
  {
   "cell_type": "markdown",
   "id": "939c4e03",
   "metadata": {},
   "source": [
    "# PW Skills Day 1"
   ]
  },
  {
   "cell_type": "code",
   "execution_count": 1,
   "id": "a799adb8",
   "metadata": {},
   "outputs": [
    {
     "name": "stdout",
     "output_type": "stream",
     "text": [
      "this\n"
     ]
    }
   ],
   "source": [
    "print(\"this\")"
   ]
  },
  {
   "cell_type": "code",
   "execution_count": 3,
   "id": "3885b6d0",
   "metadata": {},
   "outputs": [
    {
     "name": "stdout",
     "output_type": "stream",
     "text": [
      "that\n"
     ]
    }
   ],
   "source": [
    "print('that')"
   ]
  },
  {
   "cell_type": "markdown",
   "id": "641095d6",
   "metadata": {},
   "source": [
    "# heading"
   ]
  },
  {
   "cell_type": "code",
   "execution_count": 2,
   "id": "3e7ede87",
   "metadata": {},
   "outputs": [
    {
     "data": {
      "text/plain": [
       "4"
      ]
     },
     "execution_count": 2,
     "metadata": {},
     "output_type": "execute_result"
    }
   ],
   "source": [
    "1+3"
   ]
  },
  {
   "cell_type": "code",
   "execution_count": 3,
   "id": "554e63c6",
   "metadata": {},
   "outputs": [
    {
     "name": "stdout",
     "output_type": "stream",
     "text": [
      "3\n"
     ]
    }
   ],
   "source": [
    "print(1+2)"
   ]
  },
  {
   "cell_type": "markdown",
   "id": "1c575374",
   "metadata": {},
   "source": [
    "## This is cool"
   ]
  },
  {
   "cell_type": "code",
   "execution_count": 5,
   "id": "1c621797",
   "metadata": {},
   "outputs": [
    {
     "name": "stdout",
     "output_type": "stream",
     "text": [
      "mu name is samarth i live in bngaloire  also in khamgaon\n",
      ",pune and banagleore and buldhaba\n"
     ]
    }
   ],
   "source": [
    "print('''mu name is samarth i live in bngaloire  also in khamgaon\n",
    ",pune and banagleore and buldhaba''')"
   ]
  },
  {
   "cell_type": "code",
   "execution_count": 6,
   "id": "0de24e08",
   "metadata": {},
   "outputs": [
    {
     "name": "stdout",
     "output_type": "stream",
     "text": [
      "123\n"
     ]
    }
   ],
   "source": [
    "print(123)"
   ]
  },
  {
   "cell_type": "code",
   "execution_count": 9,
   "id": "538f55f2",
   "metadata": {},
   "outputs": [
    {
     "name": "stdout",
     "output_type": "stream",
     "text": [
      "hi\n"
     ]
    }
   ],
   "source": [
    "print('hi')"
   ]
  },
  {
   "cell_type": "markdown",
   "id": "15487174",
   "metadata": {},
   "source": [
    "# Formating Techinque - F String"
   ]
  },
  {
   "cell_type": "code",
   "execution_count": 10,
   "id": "41392b25",
   "metadata": {},
   "outputs": [
    {
     "name": "stdout",
     "output_type": "stream",
     "text": [
      "My name is samarth\n"
     ]
    }
   ],
   "source": [
    "name = \"samarth\"\n",
    "print(f'My name is {name}')"
   ]
  },
  {
   "cell_type": "code",
   "execution_count": null,
   "id": "f1abac8e",
   "metadata": {},
   "outputs": [],
   "source": [
    "#Formating Technique .Format Method"
   ]
  },
  {
   "cell_type": "code",
   "execution_count": 11,
   "id": "9e957817",
   "metadata": {},
   "outputs": [
    {
     "name": "stdout",
     "output_type": "stream",
     "text": [
      "My name is samarth and age32\n"
     ]
    }
   ],
   "source": [
    "name = 'samarth'\n",
    "age = 32\n",
    "print('My name is {} and age{}'.format(name,age))"
   ]
  },
  {
   "cell_type": "code",
   "execution_count": 12,
   "id": "dd72f78b",
   "metadata": {},
   "outputs": [
    {
     "name": "stdout",
     "output_type": "stream",
     "text": [
      "My name is samarth and age32\n"
     ]
    }
   ],
   "source": [
    "#Placeholder, here we have mention about the place holder\n",
    "name = 'samarth'\n",
    "age = 32\n",
    "print('My name is {myname} and age{myage}'.format(myname=name,myage=age))"
   ]
  },
  {
   "cell_type": "code",
   "execution_count": 13,
   "id": "20c0951e",
   "metadata": {},
   "outputs": [
    {
     "name": "stdout",
     "output_type": "stream",
     "text": [
      "My name is samarth and age32\n"
     ]
    }
   ],
   "source": [
    "#using Index to map the variable, here it is necesary to mantain the index python index starts with 0\n",
    "name = 'samarth'\n",
    "age = 32\n",
    "print('My name is {0} and age{1}'.format(name,age))"
   ]
  },
  {
   "cell_type": "code",
   "execution_count": 18,
   "id": "09781ac4",
   "metadata": {},
   "outputs": [
    {
     "name": "stdout",
     "output_type": "stream",
     "text": [
      "My age is 32 and I have completed degree in : BE with the name of samarth\n",
      "\n",
      "In Format string method - Using Index Method\n",
      "My age is 32 and I have completed degree in : BE with the name ofsamarth\n",
      "\n",
      "In Format string method - Using Index Method\n",
      "My age is 32 and I have completed degree in : BE with the name ofsamarth\n"
     ]
    }
   ],
   "source": [
    "#practice using F- String method and \n",
    "name = 'samarth'\n",
    "age = 32\n",
    "degree = 'BE'\n",
    "print(f'My age is {age} and I have completed degree in : {degree} with the name of {name}')\n",
    "\n",
    "#Practice with Format String\n",
    "print('\\nIn Format string method - Using Index Method')\n",
    "print('My age is {0} and I have completed degree in : {1} with the name of{2}'.format(age,degree,name))\n",
    "#Practice with Format String - Place Holder Mapping - here you can add one more variable to assign another variable\n",
    "print('\\nIn Format string method - Using Index Method')\n",
    "print('My age is {myage} and I have completed degree in : {edu} with the name of{nam}'.format(myage=age,edu=degree,nam=name))\n"
   ]
  },
  {
   "cell_type": "markdown",
   "id": "0f3cc80d",
   "metadata": {},
   "source": [
    "# Control Flow\n",
    "#Decision Making Statements"
   ]
  },
  {
   "cell_type": "code",
   "execution_count": 21,
   "id": "656d46c4",
   "metadata": {},
   "outputs": [
    {
     "name": "stdout",
     "output_type": "stream",
     "text": [
      "You can vote now\n"
     ]
    }
   ],
   "source": [
    "if 18>=5:\n",
    "    print(\"You can vote now\")"
   ]
  },
  {
   "cell_type": "code",
   "execution_count": 28,
   "id": "66f7e5d6",
   "metadata": {},
   "outputs": [
    {
     "name": "stdout",
     "output_type": "stream",
     "text": [
      "Please Enter a number : 11\n",
      "Number is not divide\n"
     ]
    }
   ],
   "source": [
    "customner_number = int(input(\"Please Enter a number : \"))\n",
    "last_number = str(customner_number).\n",
    "if (int(customner_number)%3) == 0:\n",
    "    print(\"The given number is divided by 3\")\n",
    "else: print(\"Number is not divide\")"
   ]
  },
  {
   "cell_type": "code",
   "execution_count": 30,
   "id": "d84d5d2e",
   "metadata": {},
   "outputs": [
    {
     "name": "stdout",
     "output_type": "stream",
     "text": [
      "Input your agr :2\n"
     ]
    }
   ],
   "source": [
    "age = int(input(\"Input your agr :\")) # Check can be applicable here itself to stop the usage "
   ]
  },
  {
   "cell_type": "code",
   "execution_count": 31,
   "id": "22d8eaf8",
   "metadata": {},
   "outputs": [
    {
     "name": "stdout",
     "output_type": "stream",
     "text": [
      "pleae inset your age : 34\n",
      "You are young blood \n"
     ]
    }
   ],
   "source": [
    "age = int(input('pleae inset your age : '))\n",
    "if age >= 18 and age <=45:\n",
    "    print(\"You are young blood \")"
   ]
  },
  {
   "cell_type": "code",
   "execution_count": 5,
   "id": "28a549bf",
   "metadata": {},
   "outputs": [
    {
     "name": "stdout",
     "output_type": "stream",
     "text": [
      "pls tell the product price122\n",
      "Wow 20 % discount applicable 97.6 is new price\n"
     ]
    }
   ],
   "source": [
    "pro_price = int(input(\"pls tell the product price\"))\n",
    "if pro_price >= 100:\n",
    "    print('Wow 20 % discount applicable',pro_price -pro_price/100 *20 ,\"is new price\")\n",
    "elif pro_price<= 100:\n",
    "    print(\"there is less offer here, your product proce is\",pro_price)\n"
   ]
  },
  {
   "cell_type": "code",
   "execution_count": 1,
   "id": "f18de863",
   "metadata": {},
   "outputs": [
    {
     "name": "stdout",
     "output_type": "stream",
     "text": [
      "ffdd\n"
     ]
    },
    {
     "data": {
      "text/plain": [
       "'dd'"
      ]
     },
     "execution_count": 1,
     "metadata": {},
     "output_type": "execute_result"
    }
   ],
   "source": [
    "input(\"ff\")"
   ]
  },
  {
   "cell_type": "code",
   "execution_count": 8,
   "id": "86ac0eed",
   "metadata": {},
   "outputs": [
    {
     "name": "stdout",
     "output_type": "stream",
     "text": [
      "Pleae insert the producion cost : 23\n",
      "No Discount Avaulbe\n"
     ]
    }
   ],
   "source": [
    "prod_cost = int(input(\"Pleae insert the producion cost : \"))\n",
    "if prod_cost > 3000:\n",
    "    print(\"you are getting discount of 20% your new prod_cost is :\",0.8*prod_cost)\n",
    "elif prod_cost >= 2000 and prod_cost <= 3000:\n",
    "    print('you are getting almost 30% discount',prod_cost*0.7)\n",
    "elif prod_cost >= 1000 and prod_cost < 2000:\n",
    "    print('40% discount')\n",
    "else:\n",
    "    print(\"No Discount Avaulbe\")"
   ]
  },
  {
   "cell_type": "code",
   "execution_count": 9,
   "id": "bd8dc359",
   "metadata": {},
   "outputs": [
    {
     "data": {
      "text/plain": [
       "True"
      ]
     },
     "execution_count": 9,
     "metadata": {},
     "output_type": "execute_result"
    }
   ],
   "source": [
    "'sam'.upper().lower().isalnum()"
   ]
  },
  {
   "cell_type": "code",
   "execution_count": 12,
   "id": "7a26e787",
   "metadata": {},
   "outputs": [
    {
     "ename": "SyntaxError",
     "evalue": "invalid character '‘' (U+2018) (22824629.py, line 1)",
     "output_type": "error",
     "traceback": [
      "\u001b[1;36m  Input \u001b[1;32mIn [12]\u001b[1;36m\u001b[0m\n\u001b[1;33m    Name = ‘pwskills’\u001b[0m\n\u001b[1;37m           ^\u001b[0m\n\u001b[1;31mSyntaxError\u001b[0m\u001b[1;31m:\u001b[0m invalid character '‘' (U+2018)\n"
     ]
    }
   ],
   "source": [
    "Name = ‘pwskills’\n",
    "\n",
    "Name[0] = ‘P’"
   ]
  },
  {
   "cell_type": "code",
   "execution_count": 13,
   "id": "8f113969",
   "metadata": {},
   "outputs": [
    {
     "ename": "ZeroDivisionError",
     "evalue": "division by zero",
     "output_type": "error",
     "traceback": [
      "\u001b[1;31m---------------------------------------------------------------------------\u001b[0m",
      "\u001b[1;31mZeroDivisionError\u001b[0m                         Traceback (most recent call last)",
      "Input \u001b[1;32mIn [13]\u001b[0m, in \u001b[0;36m<cell line: 1>\u001b[1;34m()\u001b[0m\n\u001b[1;32m----> 1\u001b[0m \u001b[38;5;241;43m1\u001b[39;49m\u001b[38;5;241;43m/\u001b[39;49m\u001b[38;5;28;43;01mFalse\u001b[39;49;00m\n",
      "\u001b[1;31mZeroDivisionError\u001b[0m: division by zero"
     ]
    }
   ],
   "source": [
    "1/False"
   ]
  },
  {
   "cell_type": "code",
   "execution_count": 14,
   "id": "a84411b1",
   "metadata": {},
   "outputs": [
    {
     "data": {
      "text/plain": [
       "(-1+3j)"
      ]
     },
     "execution_count": 14,
     "metadata": {},
     "output_type": "execute_result"
    }
   ],
   "source": [
    "num1= 23\n",
    "\n",
    "num2= 44\n",
    "\n",
    "num2= 2+3j\n",
    "\n",
    "num1= num2.imag\n",
    "\n",
    "num2-num1"
   ]
  },
  {
   "cell_type": "code",
   "execution_count": 15,
   "id": "02d02c16",
   "metadata": {},
   "outputs": [
    {
     "ename": "NameError",
     "evalue": "name 's' is not defined",
     "output_type": "error",
     "traceback": [
      "\u001b[1;31m---------------------------------------------------------------------------\u001b[0m",
      "\u001b[1;31mNameError\u001b[0m                                 Traceback (most recent call last)",
      "Input \u001b[1;32mIn [15]\u001b[0m, in \u001b[0;36m<cell line: 1>\u001b[1;34m()\u001b[0m\n\u001b[1;32m----> 1\u001b[0m _sa\u001b[38;5;241m=\u001b[39m \u001b[43ms\u001b[49m\n",
      "\u001b[1;31mNameError\u001b[0m: name 's' is not defined"
     ]
    }
   ],
   "source": [
    "_sa= s"
   ]
  },
  {
   "cell_type": "code",
   "execution_count": 16,
   "id": "fd6f3c76",
   "metadata": {},
   "outputs": [
    {
     "ename": "SyntaxError",
     "evalue": "invalid syntax (328386177.py, line 1)",
     "output_type": "error",
     "traceback": [
      "\u001b[1;36m  Input \u001b[1;32mIn [16]\u001b[1;36m\u001b[0m\n\u001b[1;33m    20sam = sxs\u001b[0m\n\u001b[1;37m      ^\u001b[0m\n\u001b[1;31mSyntaxError\u001b[0m\u001b[1;31m:\u001b[0m invalid syntax\n"
     ]
    }
   ],
   "source": [
    "20sam = sxs"
   ]
  },
  {
   "cell_type": "code",
   "execution_count": 18,
   "id": "5577a84e",
   "metadata": {},
   "outputs": [
    {
     "name": "stdout",
     "output_type": "stream",
     "text": [
      "yes its working\n"
     ]
    }
   ],
   "source": [
    "#Single Statements - you can write if and else in single line Suites\n",
    "val = 200\n",
    "if(val>10):print(\"yes its working\")\n",
    "else:\n",
    "    print('the number is not greater')"
   ]
  },
  {
   "cell_type": "code",
   "execution_count": null,
   "id": "77876985",
   "metadata": {},
   "outputs": [],
   "source": []
  }
 ],
 "metadata": {
  "kernelspec": {
   "display_name": "Python 3 (ipykernel)",
   "language": "python",
   "name": "python3"
  },
  "language_info": {
   "codemirror_mode": {
    "name": "ipython",
    "version": 3
   },
   "file_extension": ".py",
   "mimetype": "text/x-python",
   "name": "python",
   "nbconvert_exporter": "python",
   "pygments_lexer": "ipython3",
   "version": "3.9.12"
  }
 },
 "nbformat": 4,
 "nbformat_minor": 5
}
