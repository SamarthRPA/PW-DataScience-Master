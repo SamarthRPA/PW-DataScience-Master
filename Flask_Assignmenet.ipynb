{
 "cells": [
  {
   "cell_type": "raw",
   "id": "976af6b5",
   "metadata": {},
   "source": [
    "Q1. What is Flask Framework? What are the advantages of Flask Framework?\n"
   ]
  },
  {
   "cell_type": "markdown",
   "id": "ed27fd96",
   "metadata": {},
   "source": [
    "Flask is a micro web framework for Python that allows developers to build web applications quickly and efficiently. It provides a simple and minimalistic approach to web development, focusing on core functionality while allowing developers to add the desired features using various extensions and libraries.\n",
    "\n",
    "Advantages of the Flask Framework include:\n",
    "\n",
    "Simplicity: Flask is known for its simplicity and ease of use. Its minimalistic design and straightforward API make it easy for developers to understand and get started with web development.\n",
    "\n",
    "Lightweight: Flask is a lightweight framework with a small codebase, resulting in fast startup times and efficient performance. It does not impose unnecessary dependencies, allowing developers to have more control over the application's size and resource usage.\n",
    "\n",
    "Flexibility: Flask provides developers with a lot of flexibility to customize and structure their applications according to their specific needs. It follows a \"micro\" philosophy, allowing developers to choose the libraries and tools they prefer for different tasks such as database integration, authentication, and more.\n",
    "\n",
    "Extensibility: Flask has a rich ecosystem of extensions and libraries that can be easily integrated into applications to add additional functionality. These extensions cover a wide range of features, including database integration, user authentication, caching, form handling, and more.\n",
    "\n",
    "Scalability: Flask is designed to be scalable and can handle small to medium-sized applications effectively. While it may not have all the built-in features of larger frameworks, Flask's flexibility allows developers to optimize and scale their applications based on their specific needs.\n",
    "\n",
    "Active Community and Documentation: Flask has a vibrant community and extensive documentation, making it easy to find resources, tutorials, and support. The active community contributes to the development of new extensions and maintains existing ones, ensuring the framework stays up-to-date.\n",
    "\n",
    "Compatibility: Flask plays well with other Python libraries and frameworks, allowing developers to leverage existing Python ecosystem tools and modules seamlessly.\n",
    "\n",
    "Overall, Flask's simplicity, flexibility, lightweight nature, and strong community support make it an excellent choice for developers looking to build web applications efficiently while having the freedom to customize and scale as needed."
   ]
  },
  {
   "cell_type": "raw",
   "id": "401f4547",
   "metadata": {},
   "source": [
    "# Q2. Create a simple Flask application to display ‘Hello World!!’. Attach the screenshot of the output in\n",
    "Jupyter Notebook.\n"
   ]
  },
  {
   "cell_type": "code",
   "execution_count": null,
   "id": "7356602b",
   "metadata": {},
   "outputs": [],
   "source": [
    "from flask import Flask\n",
    "from flask import request\n",
    "\n",
    "app = Flask(__name__)\n",
    "\n",
    "@app.route(\"/\")\n",
    "def hello_world():\n",
    "    return \"Hello, World! this is samarth we are working on API\"\n",
    "\n",
    "\n",
    "@app.route(\"/h1\")\n",
    "def hello_world_1():\n",
    "    return \"This is Second line of the code lets see what happen\"\n",
    "\n",
    "\n",
    "    \n",
    "@app.route(\"/h2\")\n",
    "def hello_world_2():\n",
    "    return \"This is Third line of the code lets see what happen\"\n",
    "\n",
    "@app.route(\"/inp\")\n",
    "def request_input():\n",
    "    data = request.args.get('x')\n",
    "    return \"this is my inuput URL functional output {}\".format(data)\n",
    "\n",
    "if __name__==\"__main__\":\n",
    "    app.run(host=\"0.0.0.0\")"
   ]
  },
  {
   "cell_type": "code",
   "execution_count": null,
   "id": "bd452c54",
   "metadata": {},
   "outputs": [],
   "source": [
    "Q3. What is App routing in Flask? Why do we use app routes?\n"
   ]
  },
  {
   "cell_type": "raw",
   "id": "5a069ca7",
   "metadata": {},
   "source": [
    "\n",
    "App routing in Flask refers to the process of mapping URL patterns to specific functions or handlers in a Flask application. It allows you to define the behavior of your application based on the requested URL.\n",
    "\n",
    "In Flask, you can define routes using the @app.route decorator or the app.add_url_rule method. The decorator approach is commonly used as it provides a more concise and intuitive way to define routes.\n",
    "\n",
    "App routes are used in Flask to handle different URLs or URL patterns and execute the appropriate code or logic based on the requested route. They allow you to define the structure and behavior of your web application, directing users to different pages or executing different actions based on their interactions with the application.\n",
    "\n",
    "Using app routes provides a clean and organized way to structure your Flask application, making it easy to handle different URLs, manage different views or pages, and control the flow of your application. It allows you to create a logical structure for your application's routes, making it more maintainable and easier to understand.\n",
    "\n",
    "Overall, app routes in Flask are essential for defining the URL patterns and handling different requests, allowing you to create a well-structured and functional web application."
   ]
  },
  {
   "cell_type": "code",
   "execution_count": null,
   "id": "caa134e5",
   "metadata": {},
   "outputs": [],
   "source": [
    "Q4. Create a “/welcome” route to display the welcome message “Welcome to ABC Corporation” and a “/”\n",
    "route to show the following details:\n",
    "Company Name: ABC Corporation\n",
    "Location: India\n",
    "Contact Detail: 999-999-9999\n",
    "Attach the screenshot of the output in Jupyter Notebook.\n"
   ]
  },
  {
   "cell_type": "code",
   "execution_count": null,
   "id": "ef730ddf",
   "metadata": {},
   "outputs": [],
   "source": []
  },
  {
   "cell_type": "code",
   "execution_count": null,
   "id": "56d80429",
   "metadata": {},
   "outputs": [],
   "source": [
    "Q5. What function is used in Flask for URL Building? Write a Python code to demonstrate the working of the\n",
    "url_for() function."
   ]
  },
  {
   "cell_type": "code",
   "execution_count": null,
   "id": "d6bfc729",
   "metadata": {},
   "outputs": [],
   "source": []
  },
  {
   "cell_type": "code",
   "execution_count": null,
   "id": "5e77bfd8",
   "metadata": {},
   "outputs": [],
   "source": []
  }
 ],
 "metadata": {
  "kernelspec": {
   "display_name": "Python 3 (ipykernel)",
   "language": "python",
   "name": "python3"
  },
  "language_info": {
   "codemirror_mode": {
    "name": "ipython",
    "version": 3
   },
   "file_extension": ".py",
   "mimetype": "text/x-python",
   "name": "python",
   "nbconvert_exporter": "python",
   "pygments_lexer": "ipython3",
   "version": "3.9.12"
  }
 },
 "nbformat": 4,
 "nbformat_minor": 5
}
